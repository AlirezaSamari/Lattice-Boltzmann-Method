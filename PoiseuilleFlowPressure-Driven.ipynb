{
  "cells": [
    {
      "cell_type": "code",
      "execution_count": null,
      "metadata": {
        "colab": {
          "base_uri": "https://localhost:8080/",
          "height": 119
        },
        "id": "ftipULNICbBl",
        "outputId": "452fdc65-afe4-4298-9bef-da886dab6640"
      },
      "outputs": [
        {
          "output_type": "display_data",
          "data": {
            "text/plain": [
              "<Figure size 640x480 with 1 Axes>"
            ],
            "image/png": "[encoded data removed]"
          },
          "metadata": {}
        }
      ],
      "source": [
        "from numpy import *\n",
        "import matplotlib.pyplot as plt\n",
        "\n",
        "\n",
        "maxIter = 2000 # total number of time iteration\n",
        "Re = 222        #reynolds number\n",
        "nx, ny = 202, 22  # number of lattice nodes\n",
        "cs = sqrt(1/3)\n",
        "tau = float(.988)    #relaxation parameter\n",
        "nulb = cs**2*(tau-.5) # viscoscity in lattice unites\n",
        "dpdx = 1e-05\n",
        "rho0 = 1\n",
        "\n",
        "fin = zeros((9, nx, ny))\n",
        "\n",
        "            #0     1       2\n",
        "v = array([[1,1], [1,0], [1,-1], #3      4      5\n",
        "                                [0,1], [0,0], [0,-1],  #6      7       8\n",
        "                                                     [-1,1], [-1,0], [-1,-1]])\n",
        "\n",
        "t = array([[1/36], [1/9], [1/36],\n",
        "                                 [1/9], [4/9], [1/9],\n",
        "                                                     [1/36], [1/9], [1/36]])\n",
        "\n",
        "\n",
        "### Function Definitions #####################################################\n",
        "\n",
        "def fluid_solid(nx, ny):\n",
        "  solid = zeros((nx, ny), dtype=bool)\n",
        "  solid[:, [-1,0]] = True\n",
        "  return solid\n",
        "\n",
        "def macroscopic(fin):\n",
        "    rho = sum(fin, axis = 0)\n",
        "    u = zeros((2, nx, ny))\n",
        "    for i in range(9):\n",
        "        u[0, :, :] += v[i, 0] * fin[i, :, :]\n",
        "        u[1, :, :] += v[i, 1] * fin[i, :, :]\n",
        "    u[0] = (u[0] + 0.5*dpdx)/rho\n",
        "    u[1] = u[1]/rho\n",
        "    return rho, u\n",
        "\n",
        "\n",
        "def equilibrium(rho, u):\n",
        "    usqr = (3/2) * (u[0]**2 + u[1]**2)\n",
        "    feq = zeros((9, nx, ny))\n",
        "    for i in range(9):\n",
        "        uv = 3* (v[i, 0] * u[0,: ,:] + v[i, 1] * u[1, :, :])\n",
        "        feq[i, :, :] = rho * t[i] *(1 + uv + 0.5* uv**2 - usqr)\n",
        "    return feq\n",
        "\n",
        "def source_term(u):\n",
        "  source = zeros((9,nx,ny))\n",
        "  for i in range(9):\n",
        "    source[i,:,:] = (1-0.5/tau)*t[i]*(3*(v[i, 0]-u[0,:,:]) + 9*(v[i, 0]*u[0,:,:]+v[i, 1]*u[1,:,:])*v[i, 0])*dpdx\n",
        "  return source\n",
        "### Setup ##############################################################\n",
        "\n",
        "solid = fluid_solid(nx, ny)\n",
        "for i in range(9):\n",
        "    fin[i,:,:] = t[i]*rho0\n",
        "\n",
        "\n",
        "### Main Time Loop ###########################################################\n",
        "\n",
        "for time in range(0, maxIter + 1):\n",
        "    # Periodic B.C.\n",
        "    # fin[:,0,:] = fin[:,-2,:]\n",
        "    # fin[:,-1,:] = fin[:,1,:]\n",
        "    #compute macroscopic variables, rho and u\n",
        "    rho, u = macroscopic(fin)\n",
        "    # compute equibliruim\n",
        "    feq = equilibrium(rho, u)\n",
        "    # collision step\n",
        "    source = source_term(u)\n",
        "    fout = fin - (fin - feq)/tau + source\n",
        "    # streaming step\n",
        "    for i in range(9):\n",
        "      fin[i, :, :] = roll(roll(fout[i,:,:], v[i,0], axis = 0), v[i, 1], axis = 1)\n",
        "    # bounce-back , wet-node\n",
        "    for i in range(9):\n",
        "      fin[i, solid] = fout[8-i, solid]\n",
        "\n",
        "\n",
        "\n",
        "\n",
        "    if time == 2000:\n",
        "        plt.clf()\n",
        "        imgplot = plt.imshow(sqrt(pow(u[0], 2)+pow(u[1], 2)).transpose() , cmap=cm.jet)\n",
        "        plt.show()"
      ]
    },
    {
      "cell_type": "code",
      "execution_count": null,
      "metadata": {
        "colab": {
          "base_uri": "https://localhost:8080/",
          "height": 390
        },
        "id": "Q7b45pDbCyOT",
        "outputId": "62fd7cc8-e217-4a1b-f03c-eb50d49b4a52"
      },
      "outputs": [
        {
          "output_type": "display_data",
          "data": {
            "text/plain": [
              "<Figure size 400x400 with 1 Axes>"
            ],
            "image/png": "[encoded data removed]"
          },
          "metadata": {}
        }
      ],
      "source": [
        "momentx = u[0,nx-1,0:ny]\n",
        "height = []\n",
        "H = ny-1\n",
        "ux_exact = [0] * (ny)\n",
        "for j in range(0,ny,1):\n",
        "    y = j/H\n",
        "    y2 = y*y\n",
        "    ux_exact[j]= 0.5*1e-05*H*H*(y-y2)/nulb\n",
        "    height.append(j)\n",
        "#verify the model\n",
        "fig = plt.figure(figsize = (4, 4))\n",
        "plt.scatter(momentx,height,label='LBM')\n",
        "plt.plot(ux_exact,height,'k', label='analytical')\n",
        "plt.ylabel('y')\n",
        "plt.xlabel(r'$U_x$')\n",
        "plt.show()"
      ]
    }
  ],
  "metadata": {
    "colab": {
      "provenance": [],
      "authorship_tag": "ABX9TyPc587B1EcoytPmGHtMjk4u"
    },
    "kernelspec": {
      "display_name": "Python 3",
      "name": "python3"
    },
    "language_info": {
      "name": "python"
    }
  },
  "nbformat": 4,
  "nbformat_minor": 0
}